{
 "cells": [
  {
   "cell_type": "code",
   "execution_count": 20,
   "id": "c4bc9c81",
   "metadata": {},
   "outputs": [],
   "source": [
    "import numpy as np\n",
    "import matplotlib.pyplot as plt\n",
    "%matplotlib inline\n"
   ]
  },
  {
   "cell_type": "code",
   "execution_count": 28,
   "id": "448f4931",
   "metadata": {},
   "outputs": [],
   "source": [
    "#Samples for X1 and X2\n",
    "X1 = np.arange(0,4*np.pi,0.1)\n",
    "\n",
    "#Known function values from a sin function\n",
    "Y1 = np.cos(X1)"
   ]
  },
  {
   "cell_type": "code",
   "execution_count": 29,
   "id": "80703750",
   "metadata": {},
   "outputs": [
    {
     "data": {
      "text/plain": [
       "[<matplotlib.lines.Line2D at 0x7f3a2f41eaf0>]"
      ]
     },
     "execution_count": 29,
     "metadata": {},
     "output_type": "execute_result"
    },
    {
     "data": {
      "image/png": "[encoded data removed]",
      "text/plain": [
       "<Figure size 432x288 with 1 Axes>"
      ]
     },
     "metadata": {
      "needs_background": "light"
     },
     "output_type": "display_data"
    }
   ],
   "source": [
    "plt.plot(X1,Y1)"
   ]
  },
  {
   "cell_type": "code",
   "execution_count": 30,
   "id": "c1ea8f6c",
   "metadata": {},
   "outputs": [],
   "source": [
    "#Square exponential function\n",
    "def k(x,y): return np.exp(-0.5*(x-y)**2)\n",
    "\n",
    "\n",
    "#Covariance matrices\n",
    "kw = np.array([[k(x,y) for x in Y1] for y in Y1])/len(Y1)"
   ]
  },
  {
   "cell_type": "code",
   "execution_count": 37,
   "id": "ba249503",
   "metadata": {},
   "outputs": [
    {
     "name": "stdout",
     "output_type": "stream",
     "text": [
      "(126, 126)\n",
      "(12567,)\n"
     ]
    }
   ],
   "source": [
    "print(kw.shape)\n",
    "print(Y2.shape)"
   ]
  },
  {
   "cell_type": "code",
   "execution_count": 32,
   "id": "fc5576de",
   "metadata": {},
   "outputs": [
    {
     "name": "stdout",
     "output_type": "stream",
     "text": [
      "[[0.00793651 0.00793641 0.00793493 ... 0.00793157 0.00793575 0.00793649]\n",
      " [0.00793641 0.00793651 0.00793562 ... 0.00793287 0.0079362  0.00793648]\n",
      " [0.00793493 0.00793562 0.00793651 ... 0.00793557 0.00793636 0.00793526]\n",
      " ...\n",
      " [0.00793157 0.00793287 0.00793557 ... 0.00793651 0.00793468 0.00793217]\n",
      " [0.00793575 0.0079362  0.00793636 ... 0.00793468 0.00793651 0.00793597]\n",
      " [0.00793649 0.00793648 0.00793526 ... 0.00793217 0.00793597 0.00793651]]\n"
     ]
    }
   ],
   "source": [
    "print(kw)"
   ]
  },
  {
   "cell_type": "code",
   "execution_count": 33,
   "id": "66f85a28",
   "metadata": {},
   "outputs": [],
   "source": [
    "#double stochastic normalization"
   ]
  },
  {
   "cell_type": "code",
   "execution_count": 53,
   "id": "b35d106e",
   "metadata": {},
   "outputs": [
    {
     "name": "stdout",
     "output_type": "stream",
     "text": [
      "[1.39019707 1.38624118 1.37461373 1.35601018 1.33151014 1.30247276\n",
      " 1.27041563 1.23689517 1.20340319 1.17128935 1.14171305 1.11562323\n",
      " 1.09376056 1.076675   1.06475099 1.05823348 1.05724939 1.0618204\n",
      " 1.07186523 1.08719076 1.10747356 1.13223493 1.16081434 1.19234753\n",
      " 1.22575683 1.25976131 1.29291292 1.3236623  1.35045286 1.37183595\n",
      " 1.3865943  1.39385642 1.39318414 1.38461828 1.36867436 1.34628906\n",
      " 1.31872705 1.28746372 1.25406208 1.2200603  1.18688211 1.15577604\n",
      " 1.12778393 1.10373468 1.08425652 1.06980015 1.06066544 1.05702567\n",
      " 1.05894449 1.06638296 1.0791955  1.09711537 1.11973218 1.14646556\n",
      " 1.17654072 1.20897295 1.24256874 1.27595036 1.30760893 1.33598674\n",
      " 1.3595842  1.37708095 1.38745536 1.39008467 1.38480904 1.37194838\n",
      " 1.35226879 1.3269049  1.29725112 1.26483968 1.23122274 1.19787285\n",
      " 1.16611021 1.13705959 1.11163422 1.09054119 1.07430076 1.06327214\n",
      " 1.05767916 1.05763039 1.06313037 1.07407992 1.09026551 1.11133947\n",
      " 1.13679436 1.16593666 1.19786646 1.23147058 1.26543667 1.29829422\n",
      " 1.32848538 1.35446324 1.37480945 1.38835737 1.39430325 1.39228758\n",
      " 1.38243269 1.36532989 1.34197841 1.31368695 1.28195414 1.24834615\n",
      " 1.21438746 1.18147576 1.15082627 1.12344487 1.10012546 1.08146462\n",
      " 1.06788581 1.0596661  1.05695936 1.0598118  1.06816715 1.08186073\n",
      " 1.10060337 1.12395798 1.15131305 1.18185922 1.21457604 1.24823656\n",
      " 1.28143649 1.31265221 1.34032776 1.36298505 1.37934588 1.38844948]\n"
     ]
    }
   ],
   "source": [
    "d=np.zeros(Y1.shape)\n",
    "d_t=np.zeros(kw.shape)\n",
    "\n",
    "tol=1e-3\n",
    "\n",
    "for i in range(0,Y1.shape[0]):\n",
    "    d_t[i,0]=np.sum(kw[i,:])**(-1)\n",
    "    \n",
    "for i in range(0,Y1.shape[0]):\n",
    "    d_t[i,1]=np.sum(kw[i,:]*d_t[:,0])**(-1)\n",
    "                    \n",
    "for i in range(0,Y1.shape[0]):\n",
    "    d_t[i,2]=np.sum(kw[i,:]*d_t[:,1])**(-1)\n",
    "    \n",
    "j = 0\n",
    "tau=2\n",
    "for tau in range(2,125):  # Change this for a while loop\n",
    "\n",
    "    for i in range(0,Y1.shape[0]):\n",
    "        d_t[i,tau+1]=np.sum(kw[i,:]*d_t[:,tau])**(-1)\n",
    "     \n",
    "\n",
    "for i in range(0,Y1.shape[0]):\n",
    "    d[i]=np.sqrt(d_t[i,tau+1]*d_t[i,tau])\n",
    "\n",
    "    \n",
    "print(d)\n",
    "    "
   ]
  },
  {
   "cell_type": "code",
   "execution_count": 55,
   "id": "24d88112",
   "metadata": {},
   "outputs": [
    {
     "name": "stdout",
     "output_type": "stream",
     "text": [
      "[[0.01533848 0.01529464 0.01516353 ... 0.01502889 0.0152173  0.01531916]\n",
      " [0.01529464 0.01525131 0.0151217  ... 0.01498858 0.01517486 0.01527554]\n",
      " [0.01516353 0.0151217  0.01499653 ... 0.01486792 0.01504787 0.01514509]\n",
      " ...\n",
      " [0.01502889 0.01498858 0.01486792 ... 0.01474388 0.01491742 0.01501112]\n",
      " [0.0152173  0.01517486 0.01504787 ... 0.01491742 0.01509996 0.0151986 ]\n",
      " [0.01531916 0.01527554 0.01514509 ... 0.01501112 0.0151986  0.01529994]]\n"
     ]
    }
   ],
   "source": [
    "w = np.diag(d)@kw@np.diag(d)\n",
    "\n",
    "print(w)"
   ]
  },
  {
   "cell_type": "code",
   "execution_count": 58,
   "id": "dc8f4c59",
   "metadata": {},
   "outputs": [
    {
     "name": "stdout",
     "output_type": "stream",
     "text": [
      "1.0\n",
      "1.0\n"
     ]
    }
   ],
   "source": [
    "print(np.sum(w[10,:]))\n",
    "print(np.sum(w[:,10]))"
   ]
  },
  {
   "cell_type": "code",
   "execution_count": null,
   "id": "33e60366",
   "metadata": {},
   "outputs": [],
   "source": []
  }
 ],
 "metadata": {
  "kernelspec": {
   "display_name": "Python 3 (ipykernel)",
   "language": "python",
   "name": "python3"
  },
  "language_info": {
   "codemirror_mode": {
    "name": "ipython",
    "version": 3
   },
   "file_extension": ".py",
   "mimetype": "text/x-python",
   "name": "python",
   "nbconvert_exporter": "python",
   "pygments_lexer": "ipython3",
   "version": "3.9.5"
  }
 },
 "nbformat": 4,
 "nbformat_minor": 5
}
